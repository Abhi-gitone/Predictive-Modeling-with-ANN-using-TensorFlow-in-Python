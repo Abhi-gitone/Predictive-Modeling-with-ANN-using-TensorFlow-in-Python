{
 "cells": [
  {
   "cell_type": "code",
   "execution_count": 1,
   "id": "d75c209e",
   "metadata": {},
   "outputs": [],
   "source": [
    "import numpy as np\n",
    "import pandas as pd"
   ]
  },
  {
   "cell_type": "code",
   "execution_count": 2,
   "id": "01de7fd6",
   "metadata": {},
   "outputs": [
    {
     "data": {
      "text/html": [
       "<div>\n",
       "<style scoped>\n",
       "    .dataframe tbody tr th:only-of-type {\n",
       "        vertical-align: middle;\n",
       "    }\n",
       "\n",
       "    .dataframe tbody tr th {\n",
       "        vertical-align: top;\n",
       "    }\n",
       "\n",
       "    .dataframe thead th {\n",
       "        text-align: right;\n",
       "    }\n",
       "</style>\n",
       "<table border=\"1\" class=\"dataframe\">\n",
       "  <thead>\n",
       "    <tr style=\"text-align: right;\">\n",
       "      <th></th>\n",
       "      <th>Administrative</th>\n",
       "      <th>Administrative_Duration</th>\n",
       "      <th>Informational</th>\n",
       "      <th>Informational_Duration</th>\n",
       "      <th>ProductRelated</th>\n",
       "      <th>ProductRelated_Duration</th>\n",
       "      <th>BounceRates</th>\n",
       "      <th>ExitRates</th>\n",
       "      <th>PageValues</th>\n",
       "      <th>SpecialDay</th>\n",
       "      <th>Month</th>\n",
       "      <th>OperatingSystems</th>\n",
       "      <th>Browser</th>\n",
       "      <th>Region</th>\n",
       "      <th>TrafficType</th>\n",
       "      <th>VisitorType</th>\n",
       "      <th>Weekend</th>\n",
       "      <th>Revenue</th>\n",
       "    </tr>\n",
       "  </thead>\n",
       "  <tbody>\n",
       "    <tr>\n",
       "      <th>0</th>\n",
       "      <td>0</td>\n",
       "      <td>0.0</td>\n",
       "      <td>0</td>\n",
       "      <td>0.0</td>\n",
       "      <td>1</td>\n",
       "      <td>0.000000</td>\n",
       "      <td>0.20</td>\n",
       "      <td>0.20</td>\n",
       "      <td>0.0</td>\n",
       "      <td>0.0</td>\n",
       "      <td>Feb</td>\n",
       "      <td>1</td>\n",
       "      <td>1</td>\n",
       "      <td>1</td>\n",
       "      <td>1</td>\n",
       "      <td>Returning_Visitor</td>\n",
       "      <td>False</td>\n",
       "      <td>False</td>\n",
       "    </tr>\n",
       "    <tr>\n",
       "      <th>1</th>\n",
       "      <td>0</td>\n",
       "      <td>0.0</td>\n",
       "      <td>0</td>\n",
       "      <td>0.0</td>\n",
       "      <td>2</td>\n",
       "      <td>64.000000</td>\n",
       "      <td>0.00</td>\n",
       "      <td>0.10</td>\n",
       "      <td>0.0</td>\n",
       "      <td>0.0</td>\n",
       "      <td>Feb</td>\n",
       "      <td>2</td>\n",
       "      <td>2</td>\n",
       "      <td>1</td>\n",
       "      <td>2</td>\n",
       "      <td>Returning_Visitor</td>\n",
       "      <td>False</td>\n",
       "      <td>False</td>\n",
       "    </tr>\n",
       "    <tr>\n",
       "      <th>2</th>\n",
       "      <td>0</td>\n",
       "      <td>0.0</td>\n",
       "      <td>0</td>\n",
       "      <td>0.0</td>\n",
       "      <td>1</td>\n",
       "      <td>0.000000</td>\n",
       "      <td>0.20</td>\n",
       "      <td>0.20</td>\n",
       "      <td>0.0</td>\n",
       "      <td>0.0</td>\n",
       "      <td>Feb</td>\n",
       "      <td>4</td>\n",
       "      <td>1</td>\n",
       "      <td>9</td>\n",
       "      <td>3</td>\n",
       "      <td>Returning_Visitor</td>\n",
       "      <td>False</td>\n",
       "      <td>False</td>\n",
       "    </tr>\n",
       "    <tr>\n",
       "      <th>3</th>\n",
       "      <td>0</td>\n",
       "      <td>0.0</td>\n",
       "      <td>0</td>\n",
       "      <td>0.0</td>\n",
       "      <td>2</td>\n",
       "      <td>2.666667</td>\n",
       "      <td>0.05</td>\n",
       "      <td>0.14</td>\n",
       "      <td>0.0</td>\n",
       "      <td>0.0</td>\n",
       "      <td>Feb</td>\n",
       "      <td>3</td>\n",
       "      <td>2</td>\n",
       "      <td>2</td>\n",
       "      <td>4</td>\n",
       "      <td>Returning_Visitor</td>\n",
       "      <td>False</td>\n",
       "      <td>False</td>\n",
       "    </tr>\n",
       "    <tr>\n",
       "      <th>4</th>\n",
       "      <td>0</td>\n",
       "      <td>0.0</td>\n",
       "      <td>0</td>\n",
       "      <td>0.0</td>\n",
       "      <td>10</td>\n",
       "      <td>627.500000</td>\n",
       "      <td>0.02</td>\n",
       "      <td>0.05</td>\n",
       "      <td>0.0</td>\n",
       "      <td>0.0</td>\n",
       "      <td>Feb</td>\n",
       "      <td>3</td>\n",
       "      <td>3</td>\n",
       "      <td>1</td>\n",
       "      <td>4</td>\n",
       "      <td>Returning_Visitor</td>\n",
       "      <td>True</td>\n",
       "      <td>False</td>\n",
       "    </tr>\n",
       "  </tbody>\n",
       "</table>\n",
       "</div>"
      ],
      "text/plain": [
       "   Administrative  Administrative_Duration  Informational  \\\n",
       "0               0                      0.0              0   \n",
       "1               0                      0.0              0   \n",
       "2               0                      0.0              0   \n",
       "3               0                      0.0              0   \n",
       "4               0                      0.0              0   \n",
       "\n",
       "   Informational_Duration  ProductRelated  ProductRelated_Duration  \\\n",
       "0                     0.0               1                 0.000000   \n",
       "1                     0.0               2                64.000000   \n",
       "2                     0.0               1                 0.000000   \n",
       "3                     0.0               2                 2.666667   \n",
       "4                     0.0              10               627.500000   \n",
       "\n",
       "   BounceRates  ExitRates  PageValues  SpecialDay Month  OperatingSystems  \\\n",
       "0         0.20       0.20         0.0         0.0   Feb                 1   \n",
       "1         0.00       0.10         0.0         0.0   Feb                 2   \n",
       "2         0.20       0.20         0.0         0.0   Feb                 4   \n",
       "3         0.05       0.14         0.0         0.0   Feb                 3   \n",
       "4         0.02       0.05         0.0         0.0   Feb                 3   \n",
       "\n",
       "   Browser  Region  TrafficType        VisitorType  Weekend  Revenue  \n",
       "0        1       1            1  Returning_Visitor    False    False  \n",
       "1        2       1            2  Returning_Visitor    False    False  \n",
       "2        1       9            3  Returning_Visitor    False    False  \n",
       "3        2       2            4  Returning_Visitor    False    False  \n",
       "4        3       1            4  Returning_Visitor     True    False  "
      ]
     },
     "execution_count": 2,
     "metadata": {},
     "output_type": "execute_result"
    }
   ],
   "source": [
    "df = pd.read_csv('online_shoppers_intention.csv')\n",
    "df.head()"
   ]
  },
  {
   "cell_type": "code",
   "execution_count": 3,
   "id": "86f0fd17",
   "metadata": {},
   "outputs": [
    {
     "name": "stdout",
     "output_type": "stream",
     "text": [
      "<class 'pandas.core.frame.DataFrame'>\n",
      "RangeIndex: 12330 entries, 0 to 12329\n",
      "Data columns (total 18 columns):\n",
      " #   Column                   Non-Null Count  Dtype  \n",
      "---  ------                   --------------  -----  \n",
      " 0   Administrative           12330 non-null  int64  \n",
      " 1   Administrative_Duration  12330 non-null  float64\n",
      " 2   Informational            12330 non-null  int64  \n",
      " 3   Informational_Duration   12330 non-null  float64\n",
      " 4   ProductRelated           12330 non-null  int64  \n",
      " 5   ProductRelated_Duration  12330 non-null  float64\n",
      " 6   BounceRates              12330 non-null  float64\n",
      " 7   ExitRates                12330 non-null  float64\n",
      " 8   PageValues               12330 non-null  float64\n",
      " 9   SpecialDay               12330 non-null  float64\n",
      " 10  Month                    12330 non-null  object \n",
      " 11  OperatingSystems         12330 non-null  int64  \n",
      " 12  Browser                  12330 non-null  int64  \n",
      " 13  Region                   12330 non-null  int64  \n",
      " 14  TrafficType              12330 non-null  int64  \n",
      " 15  VisitorType              12330 non-null  object \n",
      " 16  Weekend                  12330 non-null  bool   \n",
      " 17  Revenue                  12330 non-null  bool   \n",
      "dtypes: bool(2), float64(7), int64(7), object(2)\n",
      "memory usage: 1.5+ MB\n"
     ]
    }
   ],
   "source": [
    "df.info()"
   ]
  },
  {
   "cell_type": "code",
   "execution_count": 4,
   "id": "5bf78adb",
   "metadata": {},
   "outputs": [
    {
     "data": {
      "text/plain": [
       "Administrative             0\n",
       "Administrative_Duration    0\n",
       "Informational              0\n",
       "Informational_Duration     0\n",
       "ProductRelated             0\n",
       "ProductRelated_Duration    0\n",
       "BounceRates                0\n",
       "ExitRates                  0\n",
       "PageValues                 0\n",
       "SpecialDay                 0\n",
       "Month                      0\n",
       "OperatingSystems           0\n",
       "Browser                    0\n",
       "Region                     0\n",
       "TrafficType                0\n",
       "VisitorType                0\n",
       "Weekend                    0\n",
       "Revenue                    0\n",
       "dtype: int64"
      ]
     },
     "execution_count": 4,
     "metadata": {},
     "output_type": "execute_result"
    }
   ],
   "source": [
    "## null value check\n",
    "df.isnull().sum()"
   ]
  },
  {
   "cell_type": "markdown",
   "id": "1c4a8ccf",
   "metadata": {},
   "source": [
    "## Data Processing"
   ]
  },
  {
   "cell_type": "raw",
   "id": "505a88fd",
   "metadata": {},
   "source": [
    "Step 1: Handling outlier values in continuous numeric columns\n",
    "\n",
    "Continuous dataset columns have substantial number of outliers (check exploratory_data_analysis). For this project, we will term values having z-score > 3 as outliers.\n",
    "\n",
    "To avoid the significant data loss that will happen if we delete every observation with an outlier value, we will only delete observations having more outliers than a specified threshold value."
   ]
  },
  {
   "cell_type": "code",
   "execution_count": 5,
   "id": "30c53066",
   "metadata": {},
   "outputs": [],
   "source": [
    "## removing outliers\n",
    "\n",
    "## INPUT --> (value, column), OUTPUT --> z-score of value based on column distribution\n",
    "def zscore(x,col):\n",
    "    mean, std = np.mean(df[col]), np.std(df[col])\n",
    "    return (x-mean)/std\n",
    "\n",
    "\n",
    "\n",
    "## INPUT --> dataframe, OUTPUT --> dataframe after dropping observations with more outliers than threshold\n",
    "def cleaned_data(data,threshold=5):\n",
    "    \n",
    "    ## array of names of all continuous numeric features, numerics=['int64','float64']\n",
    "    num_cols=['Administrative','Administrative_Duration','Informational','Informational_Duration','ProductRelated',\n",
    "              'ProductRelated_Duration','BounceRates','ExitRates','PageValues','SpecialDay']\n",
    "    \n",
    "    ## z_cols keeps track of the new columns created in the function\n",
    "    z_cols=[]\n",
    "    for col in num_cols:\n",
    "        data[f'{col}_z']=(abs(data[col].apply(lambda x:zscore(x,col)))>3)\n",
    "        z_cols.append(f'{col}_z')\n",
    "        \n",
    "    ## df['Total_Outliers'] contains the total number of outliers for every observation\n",
    "    data['Total_Outliers']=np.sum(data[z_cols],axis=1)\n",
    "    z_cols.append('Total_Outliers')\n",
    "    \n",
    "    ## delete observations with number of outliers greater than threshold\n",
    "    data.drop(data[data['Total_Outliers']>threshold].index,axis=0,inplace=True)\n",
    "    \n",
    "    ## delete all columns created in this function\n",
    "    data.drop(z_cols,axis=1,inplace=True)\n",
    "    data.reset_index(inplace=True)\n",
    "    data.drop('index',axis=1,inplace=True)\n",
    "    \n",
    "    return data"
   ]
  },
  {
   "cell_type": "code",
   "execution_count": 6,
   "id": "d5237fa1",
   "metadata": {},
   "outputs": [],
   "source": [
    "## clean data with function\n",
    "df = cleaned_data(df, threshold=3)"
   ]
  },
  {
   "cell_type": "raw",
   "id": "9698fec6",
   "metadata": {},
   "source": [
    "Step 2: Feature label split"
   ]
  },
  {
   "cell_type": "code",
   "execution_count": 7,
   "id": "1de192f9",
   "metadata": {},
   "outputs": [],
   "source": [
    "X = df.values[:,:-1] ## feature set\n",
    "y = df.values[:,-1] ## label set"
   ]
  },
  {
   "cell_type": "raw",
   "id": "4104afd9",
   "metadata": {},
   "source": [
    "Step 3: Enncoding categorical columns"
   ]
  },
  {
   "cell_type": "code",
   "execution_count": 8,
   "id": "1c3dd594",
   "metadata": {},
   "outputs": [],
   "source": [
    "from sklearn.preprocessing import LabelEncoder, OneHotEncoder\n",
    "from sklearn.compose import ColumnTransformer\n",
    "\n",
    "le = LabelEncoder() ## label encoder --> when categorical values seem realted\n",
    "\n",
    "X[:,10] = le.fit_transform(X[:,10]) ## encoding 'Month'\n",
    "X[:,16] = le.fit_transform(X[:,16]) ## encoding 'Weekend'\n",
    "\n",
    "ct = ColumnTransformer(transformers=[('encoder', OneHotEncoder(), [15])], remainder='passthrough') ## one-hot --> unrelated categories\n",
    "X = np.array(ct.fit_transform(X)) ## encode 'VisitorType' and return X\n",
    "\n",
    "y = le.fit_transform(y) ## encoding binary label column"
   ]
  },
  {
   "cell_type": "code",
   "execution_count": 9,
   "id": "ed00bbd6",
   "metadata": {},
   "outputs": [
    {
     "data": {
      "text/plain": [
       "array([[0.0, 0.0, 1.0, ..., 1, 1, 0],\n",
       "       [0.0, 0.0, 1.0, ..., 1, 2, 0],\n",
       "       [0.0, 0.0, 1.0, ..., 9, 3, 0],\n",
       "       ...,\n",
       "       [0.0, 0.0, 1.0, ..., 1, 13, 1],\n",
       "       [0.0, 0.0, 1.0, ..., 3, 11, 0],\n",
       "       [1.0, 0.0, 0.0, ..., 1, 2, 1]], dtype=object)"
      ]
     },
     "execution_count": 9,
     "metadata": {},
     "output_type": "execute_result"
    }
   ],
   "source": [
    "X"
   ]
  },
  {
   "cell_type": "code",
   "execution_count": 10,
   "id": "1d10e48a",
   "metadata": {},
   "outputs": [
    {
     "data": {
      "text/plain": [
       "array([0, 0, 0, ..., 0, 0, 0])"
      ]
     },
     "execution_count": 10,
     "metadata": {},
     "output_type": "execute_result"
    }
   ],
   "source": [
    "y"
   ]
  },
  {
   "cell_type": "raw",
   "id": "34a23fda",
   "metadata": {},
   "source": [
    "Step 4: Train test split"
   ]
  },
  {
   "cell_type": "code",
   "execution_count": 11,
   "id": "80905686",
   "metadata": {},
   "outputs": [],
   "source": [
    "from sklearn.model_selection import StratifiedShuffleSplit\n",
    "\n",
    "sss = StratifiedShuffleSplit(test_size=0.3, random_state=27)\n",
    "\n",
    "for train_idx, test_idx in sss.split(X,y):\n",
    "    X_train, X_test = X[train_idx], X[test_idx]\n",
    "    y_train, y_test = y[train_idx], y[test_idx]"
   ]
  },
  {
   "cell_type": "code",
   "execution_count": 12,
   "id": "9a1922d5",
   "metadata": {},
   "outputs": [
    {
     "data": {
      "text/plain": [
       "0.15389980239451354"
      ]
     },
     "execution_count": 12,
     "metadata": {},
     "output_type": "execute_result"
    }
   ],
   "source": [
    "## checking class distribution of train set\n",
    "sum(y_train)/len(y_train) ##only 15.39% of target class is 1"
   ]
  },
  {
   "cell_type": "raw",
   "id": "379937b8",
   "metadata": {},
   "source": [
    "## oversampling\n",
    "from imblearn.over_sampling import RandomOverSampler\n",
    "\n",
    "ros = RandomOverSampler(random_state=27)\n",
    "\n",
    "X_train_oversampled, y_train_oversampled = ros.fit_resample(X_train, y_train)"
   ]
  },
  {
   "cell_type": "raw",
   "id": "7911c32d",
   "metadata": {},
   "source": [
    "## checking class distribution of oversampled train set\n",
    "sum(y_train_oversampled)/len(y_train_oversampled) ##only 50% of target class is 1"
   ]
  },
  {
   "cell_type": "raw",
   "id": "035c22b5",
   "metadata": {},
   "source": [
    "X_train_oversampled.shape"
   ]
  },
  {
   "cell_type": "raw",
   "id": "07759c53",
   "metadata": {},
   "source": [
    "y_train_oversampled.shape"
   ]
  },
  {
   "cell_type": "raw",
   "id": "85ac0406",
   "metadata": {},
   "source": [
    "Step 5: Feature scaling"
   ]
  },
  {
   "cell_type": "code",
   "execution_count": 13,
   "id": "9436d904",
   "metadata": {},
   "outputs": [],
   "source": [
    "from sklearn.preprocessing import StandardScaler\n",
    "\n",
    "ss = StandardScaler()\n",
    "\n",
    "ss.fit(X_train) ## don't fit on X_test to avoid data leakage\n",
    "\n",
    "X_train = ss.transform(X_train)\n",
    "X_test = ss.transform(X_test)"
   ]
  },
  {
   "cell_type": "code",
   "execution_count": 14,
   "id": "32570e9d",
   "metadata": {},
   "outputs": [
    {
     "data": {
      "text/plain": [
       "array([[-0.40163677, -0.08792641,  0.41442921, ..., -0.4800674 ,\n",
       "        -0.76804199,  1.80992954],\n",
       "       [-0.40163677, -0.08792641,  0.41442921, ..., -0.89373124,\n",
       "        -0.76804199, -0.5525077 ],\n",
       "       [-0.40163677, -0.08792641,  0.41442921, ...,  1.17458798,\n",
       "        -0.27099717, -0.5525077 ],\n",
       "       ...,\n",
       "       [-0.40163677, -0.08792641,  0.41442921, ...,  2.00191567,\n",
       "        -0.51951958,  1.80992954],\n",
       "       [-0.40163677, -0.08792641,  0.41442921, ...,  0.34726029,\n",
       "        -0.51951958,  1.80992954],\n",
       "       [-0.40163677, -0.08792641,  0.41442921, ..., -0.89373124,\n",
       "         0.97161486, -0.5525077 ]])"
      ]
     },
     "execution_count": 14,
     "metadata": {},
     "output_type": "execute_result"
    }
   ],
   "source": [
    "X_train"
   ]
  },
  {
   "cell_type": "code",
   "execution_count": 15,
   "id": "96e96d6b",
   "metadata": {},
   "outputs": [
    {
     "data": {
      "text/plain": [
       "array([[-0.40163677, -0.08792641,  0.41442921, ...,  2.00191567,\n",
       "        -0.27099717, -0.5525077 ],\n",
       "       [ 2.48981188, -0.08792641, -2.41295736, ...,  2.00191567,\n",
       "        -0.51951958,  1.80992954],\n",
       "       [-0.40163677, -0.08792641,  0.41442921, ...,  1.58825182,\n",
       "         2.21422688, -0.5525077 ],\n",
       "       ...,\n",
       "       [-0.40163677, -0.08792641,  0.41442921, ...,  1.17458798,\n",
       "        -0.51951958,  1.80992954],\n",
       "       [-0.40163677, -0.08792641,  0.41442921, ..., -0.89373124,\n",
       "        -0.27099717, -0.5525077 ],\n",
       "       [-0.40163677, -0.08792641,  0.41442921, ..., -0.89373124,\n",
       "        -0.27099717, -0.5525077 ]])"
      ]
     },
     "execution_count": 15,
     "metadata": {},
     "output_type": "execute_result"
    }
   ],
   "source": [
    "X_test"
   ]
  },
  {
   "cell_type": "raw",
   "id": "a4e8d13a",
   "metadata": {},
   "source": [
    "Step 6: Model building with TensorFlow"
   ]
  },
  {
   "cell_type": "code",
   "execution_count": 16,
   "id": "122ede02",
   "metadata": {},
   "outputs": [
    {
     "name": "stderr",
     "output_type": "stream",
     "text": [
      "C:\\Users\\abhin\\anaconda3\\envs\\nlp_course\\lib\\site-packages\\tensorflow\\python\\framework\\dtypes.py:526: FutureWarning: Passing (type, 1) or '1type' as a synonym of type is deprecated; in a future version of numpy, it will be understood as (type, (1,)) / '(1,)type'.\n",
      "  _np_qint8 = np.dtype([(\"qint8\", np.int8, 1)])\n",
      "C:\\Users\\abhin\\anaconda3\\envs\\nlp_course\\lib\\site-packages\\tensorflow\\python\\framework\\dtypes.py:527: FutureWarning: Passing (type, 1) or '1type' as a synonym of type is deprecated; in a future version of numpy, it will be understood as (type, (1,)) / '(1,)type'.\n",
      "  _np_quint8 = np.dtype([(\"quint8\", np.uint8, 1)])\n",
      "C:\\Users\\abhin\\anaconda3\\envs\\nlp_course\\lib\\site-packages\\tensorflow\\python\\framework\\dtypes.py:528: FutureWarning: Passing (type, 1) or '1type' as a synonym of type is deprecated; in a future version of numpy, it will be understood as (type, (1,)) / '(1,)type'.\n",
      "  _np_qint16 = np.dtype([(\"qint16\", np.int16, 1)])\n",
      "C:\\Users\\abhin\\anaconda3\\envs\\nlp_course\\lib\\site-packages\\tensorflow\\python\\framework\\dtypes.py:529: FutureWarning: Passing (type, 1) or '1type' as a synonym of type is deprecated; in a future version of numpy, it will be understood as (type, (1,)) / '(1,)type'.\n",
      "  _np_quint16 = np.dtype([(\"quint16\", np.uint16, 1)])\n",
      "C:\\Users\\abhin\\anaconda3\\envs\\nlp_course\\lib\\site-packages\\tensorflow\\python\\framework\\dtypes.py:530: FutureWarning: Passing (type, 1) or '1type' as a synonym of type is deprecated; in a future version of numpy, it will be understood as (type, (1,)) / '(1,)type'.\n",
      "  _np_qint32 = np.dtype([(\"qint32\", np.int32, 1)])\n",
      "C:\\Users\\abhin\\anaconda3\\envs\\nlp_course\\lib\\site-packages\\tensorflow\\python\\framework\\dtypes.py:535: FutureWarning: Passing (type, 1) or '1type' as a synonym of type is deprecated; in a future version of numpy, it will be understood as (type, (1,)) / '(1,)type'.\n",
      "  np_resource = np.dtype([(\"resource\", np.ubyte, 1)])\n"
     ]
    }
   ],
   "source": [
    "import tensorflow as tf"
   ]
  },
  {
   "cell_type": "code",
   "execution_count": 17,
   "id": "1ac5faff",
   "metadata": {},
   "outputs": [
    {
     "data": {
      "text/plain": [
       "'1.13.1'"
      ]
     },
     "execution_count": 17,
     "metadata": {},
     "output_type": "execute_result"
    }
   ],
   "source": [
    "## check version\n",
    "tf.__version__"
   ]
  },
  {
   "cell_type": "code",
   "execution_count": 18,
   "id": "815f1e27",
   "metadata": {},
   "outputs": [
    {
     "name": "stdout",
     "output_type": "stream",
     "text": [
      "WARNING:tensorflow:From C:\\Users\\abhin\\anaconda3\\envs\\nlp_course\\lib\\site-packages\\tensorflow\\python\\ops\\resource_variable_ops.py:435: colocate_with (from tensorflow.python.framework.ops) is deprecated and will be removed in a future version.\n",
      "Instructions for updating:\n",
      "Colocations handled automatically by placer.\n",
      "WARNING:tensorflow:From C:\\Users\\abhin\\anaconda3\\envs\\nlp_course\\lib\\site-packages\\tensorflow\\python\\keras\\layers\\core.py:143: calling dropout (from tensorflow.python.ops.nn_ops) with keep_prob is deprecated and will be removed in a future version.\n",
      "Instructions for updating:\n",
      "Please use `rate` instead of `keep_prob`. Rate should be set to `rate = 1 - keep_prob`.\n",
      "Train on 8603 samples, validate on 3687 samples\n",
      "WARNING:tensorflow:From C:\\Users\\abhin\\anaconda3\\envs\\nlp_course\\lib\\site-packages\\tensorflow\\python\\ops\\math_ops.py:3066: to_int32 (from tensorflow.python.ops.math_ops) is deprecated and will be removed in a future version.\n",
      "Instructions for updating:\n",
      "Use tf.cast instead.\n",
      "Epoch 1/75\n",
      "8603/8603 [==============================] - 1s 76us/sample - loss: 0.4624 - acc: 0.8129 - val_loss: 0.3622 - val_acc: 0.8603\n",
      "Epoch 2/75\n",
      "8603/8603 [==============================] - 0s 30us/sample - loss: 0.3333 - acc: 0.8633 - val_loss: 0.3026 - val_acc: 0.8815\n",
      "Epoch 3/75\n",
      "8603/8603 [==============================] - 0s 31us/sample - loss: 0.3132 - acc: 0.8809 - val_loss: 0.2878 - val_acc: 0.8874\n",
      "Epoch 4/75\n",
      "8603/8603 [==============================] - 0s 31us/sample - loss: 0.3004 - acc: 0.8833 - val_loss: 0.2814 - val_acc: 0.8880\n",
      "Epoch 5/75\n",
      "8603/8603 [==============================] - 0s 30us/sample - loss: 0.2942 - acc: 0.8876 - val_loss: 0.2814 - val_acc: 0.8902\n",
      "Epoch 6/75\n",
      "8603/8603 [==============================] - 0s 30us/sample - loss: 0.2881 - acc: 0.8886 - val_loss: 0.2783 - val_acc: 0.8940\n",
      "Epoch 7/75\n",
      "8603/8603 [==============================] - 0s 31us/sample - loss: 0.2862 - acc: 0.8885 - val_loss: 0.2786 - val_acc: 0.8953\n",
      "Epoch 8/75\n",
      "8603/8603 [==============================] - 0s 31us/sample - loss: 0.2816 - acc: 0.8893 - val_loss: 0.2697 - val_acc: 0.8940\n",
      "Epoch 9/75\n",
      "8603/8603 [==============================] - 0s 27us/sample - loss: 0.2786 - acc: 0.8922 - val_loss: 0.2714 - val_acc: 0.8942\n",
      "Epoch 10/75\n",
      "8603/8603 [==============================] - 0s 28us/sample - loss: 0.2728 - acc: 0.8929 - val_loss: 0.2674 - val_acc: 0.8967\n",
      "Epoch 11/75\n",
      "8603/8603 [==============================] - 0s 27us/sample - loss: 0.2703 - acc: 0.8913 - val_loss: 0.2658 - val_acc: 0.8972\n",
      "Epoch 12/75\n",
      "8603/8603 [==============================] - 0s 29us/sample - loss: 0.2702 - acc: 0.8941 - val_loss: 0.2658 - val_acc: 0.8948\n",
      "Epoch 13/75\n",
      "8603/8603 [==============================] - 0s 29us/sample - loss: 0.2689 - acc: 0.8955 - val_loss: 0.2617 - val_acc: 0.8969\n",
      "Epoch 14/75\n",
      "8603/8603 [==============================] - 0s 29us/sample - loss: 0.2677 - acc: 0.8963 - val_loss: 0.2642 - val_acc: 0.8956\n",
      "Epoch 15/75\n",
      "8603/8603 [==============================] - 0s 29us/sample - loss: 0.2635 - acc: 0.8946 - val_loss: 0.2652 - val_acc: 0.8975\n",
      "Epoch 16/75\n",
      "8603/8603 [==============================] - 0s 31us/sample - loss: 0.2656 - acc: 0.8953 - val_loss: 0.2622 - val_acc: 0.8975\n",
      "Epoch 17/75\n",
      "8603/8603 [==============================] - 0s 32us/sample - loss: 0.2613 - acc: 0.8993 - val_loss: 0.2601 - val_acc: 0.8994\n",
      "Epoch 18/75\n",
      "8603/8603 [==============================] - 0s 29us/sample - loss: 0.2610 - acc: 0.8976 - val_loss: 0.2589 - val_acc: 0.8959\n",
      "Epoch 19/75\n",
      "8603/8603 [==============================] - 0s 29us/sample - loss: 0.2562 - acc: 0.8982 - val_loss: 0.2592 - val_acc: 0.8977\n",
      "Epoch 20/75\n",
      "8603/8603 [==============================] - 0s 30us/sample - loss: 0.2598 - acc: 0.8943 - val_loss: 0.2646 - val_acc: 0.8972\n",
      "Epoch 21/75\n",
      "8603/8603 [==============================] - 0s 28us/sample - loss: 0.2610 - acc: 0.8975 - val_loss: 0.2565 - val_acc: 0.8986\n",
      "Epoch 22/75\n",
      "8603/8603 [==============================] - 0s 29us/sample - loss: 0.2578 - acc: 0.8953 - val_loss: 0.2579 - val_acc: 0.8980\n",
      "Epoch 23/75\n",
      "8603/8603 [==============================] - 0s 29us/sample - loss: 0.2566 - acc: 0.8954 - val_loss: 0.2570 - val_acc: 0.8986\n",
      "Epoch 24/75\n",
      "8603/8603 [==============================] - 0s 29us/sample - loss: 0.2547 - acc: 0.8996 - val_loss: 0.2569 - val_acc: 0.8994\n",
      "Epoch 25/75\n",
      "8603/8603 [==============================] - 0s 30us/sample - loss: 0.2542 - acc: 0.8972 - val_loss: 0.2590 - val_acc: 0.8975\n",
      "Epoch 26/75\n",
      "8603/8603 [==============================] - 0s 29us/sample - loss: 0.2542 - acc: 0.8986 - val_loss: 0.2561 - val_acc: 0.8977\n",
      "Epoch 27/75\n",
      "8603/8603 [==============================] - 0s 27us/sample - loss: 0.2512 - acc: 0.8984 - val_loss: 0.2555 - val_acc: 0.8975\n",
      "Epoch 28/75\n",
      "8603/8603 [==============================] - 0s 26us/sample - loss: 0.2487 - acc: 0.8991 - val_loss: 0.2556 - val_acc: 0.8967\n",
      "Epoch 29/75\n",
      "8603/8603 [==============================] - 0s 26us/sample - loss: 0.2535 - acc: 0.8986 - val_loss: 0.2573 - val_acc: 0.8972\n",
      "Epoch 30/75\n",
      "8603/8603 [==============================] - 0s 26us/sample - loss: 0.2469 - acc: 0.8997 - val_loss: 0.2564 - val_acc: 0.8975\n",
      "Epoch 31/75\n",
      "8603/8603 [==============================] - 0s 26us/sample - loss: 0.2480 - acc: 0.9008 - val_loss: 0.2576 - val_acc: 0.8972\n",
      "Epoch 32/75\n",
      "8603/8603 [==============================] - 0s 27us/sample - loss: 0.2502 - acc: 0.8993 - val_loss: 0.2536 - val_acc: 0.8980\n",
      "Epoch 33/75\n",
      "8603/8603 [==============================] - 0s 26us/sample - loss: 0.2478 - acc: 0.9002 - val_loss: 0.2600 - val_acc: 0.8969\n",
      "Epoch 34/75\n",
      "8603/8603 [==============================] - 0s 26us/sample - loss: 0.2485 - acc: 0.9008 - val_loss: 0.2571 - val_acc: 0.8980\n",
      "Epoch 35/75\n",
      "8603/8603 [==============================] - 0s 26us/sample - loss: 0.2442 - acc: 0.9019 - val_loss: 0.2567 - val_acc: 0.8950\n",
      "Epoch 36/75\n",
      "8603/8603 [==============================] - 0s 28us/sample - loss: 0.2489 - acc: 0.8991 - val_loss: 0.2545 - val_acc: 0.8980\n",
      "Epoch 37/75\n",
      "8603/8603 [==============================] - 0s 27us/sample - loss: 0.2473 - acc: 0.8997 - val_loss: 0.2535 - val_acc: 0.8961\n",
      "Epoch 38/75\n",
      "8603/8603 [==============================] - 0s 26us/sample - loss: 0.2476 - acc: 0.9005 - val_loss: 0.2545 - val_acc: 0.8988\n",
      "Epoch 39/75\n",
      "8603/8603 [==============================] - 0s 26us/sample - loss: 0.2455 - acc: 0.8996 - val_loss: 0.2522 - val_acc: 0.8972\n",
      "Epoch 40/75\n",
      "8603/8603 [==============================] - 0s 27us/sample - loss: 0.2446 - acc: 0.9011 - val_loss: 0.2540 - val_acc: 0.8991\n",
      "Epoch 41/75\n",
      "8603/8603 [==============================] - 0s 28us/sample - loss: 0.2440 - acc: 0.9026 - val_loss: 0.2538 - val_acc: 0.8991\n",
      "Epoch 42/75\n",
      "8603/8603 [==============================] - 0s 26us/sample - loss: 0.2430 - acc: 0.9003 - val_loss: 0.2522 - val_acc: 0.8983\n",
      "Epoch 43/75\n",
      "8603/8603 [==============================] - 0s 26us/sample - loss: 0.2422 - acc: 0.9021 - val_loss: 0.2533 - val_acc: 0.8980\n",
      "Epoch 44/75\n",
      "8603/8603 [==============================] - 0s 27us/sample - loss: 0.2426 - acc: 0.9012 - val_loss: 0.2519 - val_acc: 0.8991\n",
      "Epoch 45/75\n",
      "8603/8603 [==============================] - 0s 30us/sample - loss: 0.2441 - acc: 0.9004 - val_loss: 0.2548 - val_acc: 0.8999\n",
      "Epoch 46/75\n",
      "8603/8603 [==============================] - 0s 26us/sample - loss: 0.2416 - acc: 0.9014 - val_loss: 0.2520 - val_acc: 0.8986\n",
      "Epoch 47/75\n",
      "8603/8603 [==============================] - 0s 27us/sample - loss: 0.2441 - acc: 0.9000 - val_loss: 0.2540 - val_acc: 0.8986\n",
      "Epoch 48/75\n",
      "8603/8603 [==============================] - 0s 27us/sample - loss: 0.2448 - acc: 0.9020 - val_loss: 0.2522 - val_acc: 0.8983\n",
      "Epoch 49/75\n",
      "8603/8603 [==============================] - 0s 27us/sample - loss: 0.2413 - acc: 0.9035 - val_loss: 0.2515 - val_acc: 0.8994\n",
      "Epoch 50/75\n",
      "8603/8603 [==============================] - 0s 26us/sample - loss: 0.2391 - acc: 0.9024 - val_loss: 0.2539 - val_acc: 0.8988\n",
      "Epoch 51/75\n",
      "8603/8603 [==============================] - 0s 26us/sample - loss: 0.2416 - acc: 0.8989 - val_loss: 0.2520 - val_acc: 0.8986\n",
      "Epoch 52/75\n",
      "8603/8603 [==============================] - 0s 26us/sample - loss: 0.2396 - acc: 0.9013 - val_loss: 0.2513 - val_acc: 0.8986\n",
      "Epoch 53/75\n"
     ]
    },
    {
     "name": "stdout",
     "output_type": "stream",
     "text": [
      "8603/8603 [==============================] - 0s 27us/sample - loss: 0.2409 - acc: 0.9028 - val_loss: 0.2533 - val_acc: 0.8988\n",
      "Epoch 54/75\n",
      "8603/8603 [==============================] - 0s 25us/sample - loss: 0.2394 - acc: 0.9028 - val_loss: 0.2536 - val_acc: 0.8967\n",
      "Epoch 55/75\n",
      "8603/8603 [==============================] - 0s 26us/sample - loss: 0.2395 - acc: 0.8990 - val_loss: 0.2510 - val_acc: 0.8972\n",
      "Epoch 56/75\n",
      "8603/8603 [==============================] - 0s 26us/sample - loss: 0.2368 - acc: 0.9013 - val_loss: 0.2527 - val_acc: 0.8999\n",
      "Epoch 57/75\n",
      "8603/8603 [==============================] - 0s 26us/sample - loss: 0.2427 - acc: 0.9004 - val_loss: 0.2558 - val_acc: 0.8999\n",
      "Epoch 58/75\n",
      "8603/8603 [==============================] - 0s 27us/sample - loss: 0.2390 - acc: 0.9045 - val_loss: 0.2517 - val_acc: 0.9010\n",
      "Epoch 59/75\n",
      "8603/8603 [==============================] - 0s 26us/sample - loss: 0.2332 - acc: 0.9026 - val_loss: 0.2514 - val_acc: 0.9005\n",
      "Epoch 60/75\n",
      "8603/8603 [==============================] - 0s 26us/sample - loss: 0.2390 - acc: 0.9022 - val_loss: 0.2511 - val_acc: 0.8991\n",
      "Epoch 61/75\n",
      "8603/8603 [==============================] - 0s 27us/sample - loss: 0.2382 - acc: 0.9019 - val_loss: 0.2512 - val_acc: 0.8986\n",
      "Epoch 62/75\n",
      "8603/8603 [==============================] - 0s 27us/sample - loss: 0.2354 - acc: 0.9020 - val_loss: 0.2513 - val_acc: 0.9013\n",
      "Epoch 63/75\n",
      "8603/8603 [==============================] - 0s 26us/sample - loss: 0.2395 - acc: 0.9034 - val_loss: 0.2512 - val_acc: 0.8980\n",
      "Epoch 64/75\n",
      "8603/8603 [==============================] - 0s 27us/sample - loss: 0.2330 - acc: 0.9036 - val_loss: 0.2507 - val_acc: 0.9002\n",
      "Epoch 65/75\n",
      "8603/8603 [==============================] - 0s 29us/sample - loss: 0.2327 - acc: 0.9020 - val_loss: 0.2512 - val_acc: 0.8999\n",
      "Epoch 66/75\n",
      "8603/8603 [==============================] - 0s 30us/sample - loss: 0.2371 - acc: 0.9041 - val_loss: 0.2526 - val_acc: 0.8977\n",
      "Epoch 67/75\n",
      "8603/8603 [==============================] - 0s 26us/sample - loss: 0.2331 - acc: 0.9032 - val_loss: 0.2515 - val_acc: 0.8988\n",
      "Epoch 68/75\n",
      "8603/8603 [==============================] - 0s 27us/sample - loss: 0.2356 - acc: 0.9005 - val_loss: 0.2536 - val_acc: 0.8988\n",
      "Epoch 69/75\n",
      "8603/8603 [==============================] - 0s 29us/sample - loss: 0.2358 - acc: 0.9008 - val_loss: 0.2504 - val_acc: 0.9005\n",
      "Epoch 70/75\n",
      "8603/8603 [==============================] - 0s 29us/sample - loss: 0.2367 - acc: 0.9022 - val_loss: 0.2510 - val_acc: 0.8983\n",
      "Epoch 71/75\n",
      "8603/8603 [==============================] - 0s 26us/sample - loss: 0.2338 - acc: 0.9063 - val_loss: 0.2501 - val_acc: 0.8999\n",
      "Epoch 72/75\n",
      "8603/8603 [==============================] - 0s 26us/sample - loss: 0.2321 - acc: 0.9036 - val_loss: 0.2526 - val_acc: 0.8986\n",
      "Epoch 73/75\n",
      "8603/8603 [==============================] - 0s 26us/sample - loss: 0.2343 - acc: 0.9024 - val_loss: 0.2498 - val_acc: 0.9010\n",
      "Epoch 74/75\n",
      "8603/8603 [==============================] - 0s 26us/sample - loss: 0.2330 - acc: 0.9035 - val_loss: 0.2513 - val_acc: 0.9002\n",
      "Epoch 75/75\n",
      "8603/8603 [==============================] - 0s 28us/sample - loss: 0.2332 - acc: 0.9045 - val_loss: 0.2514 - val_acc: 0.9002\n"
     ]
    }
   ],
   "source": [
    "## build a basic sequenntial model to check behaviour\n",
    "\n",
    "model = tf.keras.models.Sequential() ## instantiation\n",
    "\n",
    "## layers\n",
    "model.add(tf.keras.layers.Dense(units=5*X.shape[1], activation=tf.nn.leaky_relu))\n",
    "model.add(tf.keras.layers.Dropout(rate=0.30))\n",
    "\n",
    "model.add(tf.keras.layers.Dense(units=10*X.shape[1], activation=tf.nn.leaky_relu))\n",
    "model.add(tf.keras.layers.Dropout(rate=0.30))\n",
    "\n",
    "model.add(tf.keras.layers.Dense(units=15*X.shape[1], activation=tf.nn.leaky_relu))\n",
    "model.add(tf.keras.layers.Dropout(rate=0.50))\n",
    "\n",
    "model.add(tf.keras.layers.Dense(units=10*X.shape[1], activation=tf.nn.leaky_relu))\n",
    "model.add(tf.keras.layers.Dropout(rate=0.30))\n",
    "\n",
    "model.add(tf.keras.layers.Dense(units=5*X.shape[1], activation=tf.nn.leaky_relu))\n",
    "model.add(tf.keras.layers.Dropout(rate=0.30))\n",
    "\n",
    "## output\n",
    "model.add(tf.keras.layers.Dense(units=1, activation='sigmoid'))\n",
    "\n",
    "## compile\n",
    "model.compile(optimizer='adam', loss='binary_crossentropy', metrics=['accuracy'])\n",
    "\n",
    "## fit\n",
    "model_history = model.fit(x=X_train, y=y_train, batch_size=512, epochs=75, validation_data=[X_test, y_test])"
   ]
  },
  {
   "cell_type": "code",
   "execution_count": 19,
   "id": "09aaa17c",
   "metadata": {},
   "outputs": [
    {
     "data": {
      "image/png": "[encoded data removed]",
      "text/plain": [
       "<Figure size 1600x600 with 1 Axes>"
      ]
     },
     "metadata": {},
     "output_type": "display_data"
    }
   ],
   "source": [
    "## plot results for model\n",
    "\n",
    "import matplotlib.pyplot as plt\n",
    "\n",
    "fig, ax  = plt.subplots(figsize=(16,6))\n",
    "ax.plot(model_history.history['acc'])\n",
    "ax.plot(model_history.history['val_acc'])\n",
    "ax.set_xlabel('epoch')\n",
    "ax.set_ylabel('accuracy')\n",
    "ax.legend(['train', 'test'])\n",
    "\n",
    "plt.show()"
   ]
  },
  {
   "cell_type": "raw",
   "id": "182e7bcb",
   "metadata": {},
   "source": [
    "Step 7: Model evaluation"
   ]
  },
  {
   "cell_type": "code",
   "execution_count": 20,
   "id": "835a13de",
   "metadata": {},
   "outputs": [],
   "source": [
    "from sklearn.metrics import accuracy_score, confusion_matrix, classification_report"
   ]
  },
  {
   "cell_type": "code",
   "execution_count": 21,
   "id": "195cd727",
   "metadata": {},
   "outputs": [],
   "source": [
    "preds = model.predict_classes(X_test)"
   ]
  },
  {
   "cell_type": "code",
   "execution_count": 22,
   "id": "003e97b3",
   "metadata": {},
   "outputs": [
    {
     "name": "stdout",
     "output_type": "stream",
     "text": [
      "Accuracy: 90.02%\n"
     ]
    }
   ],
   "source": [
    "print(f\"Accuracy: {round(accuracy_score(y_test, preds)*100,2)}%\")"
   ]
  },
  {
   "cell_type": "code",
   "execution_count": 23,
   "id": "18a96e70",
   "metadata": {},
   "outputs": [
    {
     "name": "stdout",
     "output_type": "stream",
     "text": [
      "[[2990  129]\n",
      " [ 239  329]]\n"
     ]
    }
   ],
   "source": [
    "print(confusion_matrix(y_test, preds))"
   ]
  },
  {
   "cell_type": "code",
   "execution_count": 24,
   "id": "47a2049e",
   "metadata": {},
   "outputs": [
    {
     "name": "stdout",
     "output_type": "stream",
     "text": [
      "              precision    recall  f1-score   support\n",
      "\n",
      "           0       0.93      0.96      0.94      3119\n",
      "           1       0.72      0.58      0.64       568\n",
      "\n",
      "    accuracy                           0.90      3687\n",
      "   macro avg       0.82      0.77      0.79      3687\n",
      "weighted avg       0.89      0.90      0.90      3687\n",
      "\n"
     ]
    }
   ],
   "source": [
    "print(classification_report(y_test, preds))"
   ]
  },
  {
   "cell_type": "raw",
   "id": "ba52fc40",
   "metadata": {},
   "source": [
    "Step 8: Function to output result using model"
   ]
  },
  {
   "cell_type": "code",
   "execution_count": 25,
   "id": "13f66a12",
   "metadata": {},
   "outputs": [],
   "source": [
    "sample_input=df.values[1,:-1]"
   ]
  },
  {
   "cell_type": "code",
   "execution_count": 26,
   "id": "ec4c009e",
   "metadata": {},
   "outputs": [
    {
     "data": {
      "text/plain": [
       "'Feb'"
      ]
     },
     "execution_count": 26,
     "metadata": {},
     "output_type": "execute_result"
    }
   ],
   "source": [
    "sample_input[10]"
   ]
  },
  {
   "cell_type": "code",
   "execution_count": 27,
   "id": "c0a605b0",
   "metadata": {},
   "outputs": [],
   "source": [
    "## function for data processing\n",
    "def prepare_data(input_data):\n",
    "    \n",
    "    ## encode 'Month' and 'Weekend'\n",
    "    label_encoder = LabelEncoder()\n",
    "    \n",
    "    label_encoder.fit(df.values[:,10])\n",
    "    input_data[[10]] = label_encoder.transform(input_data[[10]])\n",
    "    \n",
    "    label_encoder.fit(df.values[:,16])\n",
    "    input_data[[16]] = label_encoder.transform(input_data[[16]])\n",
    "    \n",
    "    ## encode 'VisitorType'\n",
    "    ct = ColumnTransformer(transformers=[('encoder', OneHotEncoder(), [15])], remainder='passthrough')\n",
    "    ct.fit(df.values[:,:-1])\n",
    "    input_data = ct.transform([input_data])\n",
    "    \n",
    "    ##scaling\n",
    "    input_data = ss.transform(input_data)\n",
    "    \n",
    "    return input_data"
   ]
  },
  {
   "cell_type": "code",
   "execution_count": 28,
   "id": "2016f965",
   "metadata": {},
   "outputs": [],
   "source": [
    "## function to give predictions\n",
    "def predict(model, input_data):\n",
    "    \n",
    "    prepared_input = prepare_data(input_data)\n",
    "    \n",
    "    result = model.predict_classes(prepared_input)\n",
    "    \n",
    "    if result[0][0] == 1:\n",
    "        print(f\"Predicted output: {True}\")\n",
    "    else:\n",
    "        print(f\"Predicted output: {False}\")"
   ]
  },
  {
   "cell_type": "code",
   "execution_count": 29,
   "id": "4c5e8b83",
   "metadata": {},
   "outputs": [
    {
     "name": "stdout",
     "output_type": "stream",
     "text": [
      "Input: [6 110.625 1 106.0 30 1508.521825 0.04 0.043294931 21.01746974 0.0 'Nov' 3\n",
      " 2 3 13 'Returning_Visitor' False]\n",
      "True output: False\n"
     ]
    }
   ],
   "source": [
    "## random test\n",
    "\n",
    "random_row = np.random.randint(0,df.shape[0])\n",
    "\n",
    "random_input = df.values[random_row, :-1]\n",
    "\n",
    "print(f\"Input: {random_input}\")\n",
    "\n",
    "true_output = df.values[random_row, -1]\n",
    "\n",
    "print(f\"True output: {true_output}\")"
   ]
  },
  {
   "cell_type": "code",
   "execution_count": 30,
   "id": "9d8553b3",
   "metadata": {},
   "outputs": [
    {
     "name": "stdout",
     "output_type": "stream",
     "text": [
      "Predicted output: False\n"
     ]
    }
   ],
   "source": [
    "predict(model=model, input_data=random_input)"
   ]
  },
  {
   "cell_type": "raw",
   "id": "e703c86e",
   "metadata": {},
   "source": [
    "Step 9: Save the model"
   ]
  },
  {
   "cell_type": "code",
   "execution_count": 31,
   "id": "d68acf17",
   "metadata": {},
   "outputs": [],
   "source": [
    "tf.keras.models.save_model(model, 'Churn_ANN_batchsize512_epochs75.h5')"
   ]
  },
  {
   "cell_type": "code",
   "execution_count": null,
   "id": "d7f9f063",
   "metadata": {},
   "outputs": [],
   "source": []
  },
  {
   "cell_type": "code",
   "execution_count": null,
   "id": "41e7da89",
   "metadata": {},
   "outputs": [],
   "source": []
  },
  {
   "cell_type": "code",
   "execution_count": null,
   "id": "8fc74eb8",
   "metadata": {},
   "outputs": [],
   "source": []
  },
  {
   "cell_type": "code",
   "execution_count": null,
   "id": "c3614978",
   "metadata": {},
   "outputs": [],
   "source": []
  },
  {
   "cell_type": "code",
   "execution_count": null,
   "id": "a64879ea",
   "metadata": {},
   "outputs": [],
   "source": []
  },
  {
   "cell_type": "code",
   "execution_count": null,
   "id": "e59d2537",
   "metadata": {},
   "outputs": [],
   "source": []
  },
  {
   "cell_type": "code",
   "execution_count": null,
   "id": "4bae74f5",
   "metadata": {},
   "outputs": [],
   "source": []
  },
  {
   "cell_type": "code",
   "execution_count": null,
   "id": "a85ec1c8",
   "metadata": {},
   "outputs": [],
   "source": []
  },
  {
   "cell_type": "code",
   "execution_count": null,
   "id": "3578a875",
   "metadata": {},
   "outputs": [],
   "source": []
  },
  {
   "cell_type": "code",
   "execution_count": null,
   "id": "8a8fbc32",
   "metadata": {},
   "outputs": [],
   "source": []
  },
  {
   "cell_type": "code",
   "execution_count": null,
   "id": "11309e96",
   "metadata": {},
   "outputs": [],
   "source": []
  }
 ],
 "metadata": {
  "kernelspec": {
   "display_name": "Python 3 (ipykernel)",
   "language": "python",
   "name": "python3"
  },
  "language_info": {
   "codemirror_mode": {
    "name": "ipython",
    "version": 3
   },
   "file_extension": ".py",
   "mimetype": "text/x-python",
   "name": "python",
   "nbconvert_exporter": "python",
   "pygments_lexer": "ipython3",
   "version": "3.7.16"
  }
 },
 "nbformat": 4,
 "nbformat_minor": 5
}
